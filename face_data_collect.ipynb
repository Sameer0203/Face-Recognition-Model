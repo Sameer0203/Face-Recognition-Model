{
 "cells": [
  {
   "cell_type": "code",
   "execution_count": 1,
   "metadata": {},
   "outputs": [],
   "source": [
    "import cv2\n",
    "import numpy as np"
   ]
  },
  {
   "cell_type": "code",
   "execution_count": 2,
   "metadata": {},
   "outputs": [],
   "source": [
    "cap = cv2.VideoCapture(0)"
   ]
  },
  {
   "cell_type": "code",
   "execution_count": 3,
   "metadata": {},
   "outputs": [],
   "source": [
    "# face detection\n",
    "\n",
    "face_cascade = cv2.CascadeClassifier('haarcascade_frontalface_alt.xml')\n",
    "path = 'C:/Users/samee/Desktop/Data Science/ML_Coding_Blocks/openCV_Face_Recognition/'"
   ]
  },
  {
   "cell_type": "code",
   "execution_count": 4,
   "metadata": {},
   "outputs": [
    {
     "name": "stdout",
     "output_type": "stream",
     "text": [
      "Enter your name: lalit\n",
      "1\n",
      "2\n",
      "3\n",
      "4\n",
      "5\n",
      "6\n",
      "7\n",
      "8\n",
      "9\n",
      "10\n",
      "11\n",
      "12\n",
      "13\n",
      "14\n",
      "15\n",
      "16\n",
      "17\n",
      "18\n",
      "19\n",
      "20\n",
      "21\n",
      "22\n",
      "23\n",
      "24\n",
      "25\n"
     ]
    }
   ],
   "source": [
    "skip = 0\n",
    "face_data = []\n",
    "#path = 'C:/Users/samee/Desktop/Data Science/ML_Coding_Blocks/openCV_Face_Recognition/'\n",
    "file_name = input('Enter your name: ')\n",
    "\n",
    "while True:\n",
    "    \n",
    "    ret, frame = cap.read()\n",
    "    \n",
    "    if ret == False:\n",
    "        continue\n",
    "    \n",
    "    faces = face_cascade.detectMultiScale(frame, 1.3, 5)\n",
    "    faces = sorted(faces, key = lambda f:f[2]*f[3])\n",
    "    \n",
    "    for face in faces[-1:]:\n",
    "        x, y, w, h = face\n",
    "        cv2.rectangle(frame, (x,y), (x+w, y+h), (0, 255, 255), 2)\n",
    "        \n",
    "        offset = 10\n",
    "        face_section = frame[y-offset:y+h+offset, x-offset:y+w+offset]\n",
    "        face_section = cv2.resize(face_section, (100,100))\n",
    "        \n",
    "        skip +=1\n",
    "        if skip%10 == 0:\n",
    "            face_data.append(face_section)\n",
    "            print(len(face_data))\n",
    "    \n",
    "    cv2.imshow(\"Frame\", frame)\n",
    "    cv2.imshow(\"Face_section\", face_section)\n",
    "    \n",
    "    key_pressed = cv2.waitKey(1) & 0xFF\n",
    "    if key_pressed == ord('q'):\n",
    "        break\n",
    "\n",
    "cap.release()\n",
    "cv2.destroyAllWindows()"
   ]
  },
  {
   "cell_type": "code",
   "execution_count": 5,
   "metadata": {},
   "outputs": [
    {
     "name": "stdout",
     "output_type": "stream",
     "text": [
      "(25, 30000)\n"
     ]
    }
   ],
   "source": [
    "# convert face list array into numpy array\n",
    "face_data = np.asarray(face_data)\n",
    "face_data = face_data.reshape((face_data.shape[0], -1))\n",
    "print(face_data.shape)"
   ]
  },
  {
   "cell_type": "code",
   "execution_count": 6,
   "metadata": {},
   "outputs": [],
   "source": [
    "# save this data into file system\n",
    "np.savetxt(path + file_name + '.npy', face_data)"
   ]
  },
  {
   "cell_type": "code",
   "execution_count": null,
   "metadata": {},
   "outputs": [],
   "source": []
  }
 ],
 "metadata": {
  "kernelspec": {
   "display_name": "Python 3",
   "language": "python",
   "name": "python3"
  },
  "language_info": {
   "codemirror_mode": {
    "name": "ipython",
    "version": 3
   },
   "file_extension": ".py",
   "mimetype": "text/x-python",
   "name": "python",
   "nbconvert_exporter": "python",
   "pygments_lexer": "ipython3",
   "version": "3.8.5"
  }
 },
 "nbformat": 4,
 "nbformat_minor": 4
}
