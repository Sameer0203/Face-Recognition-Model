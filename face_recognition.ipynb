{
 "cells": [
  {
   "cell_type": "code",
   "execution_count": 7,
   "metadata": {},
   "outputs": [],
   "source": [
    "import numpy as np\n",
    "import cv2\n",
    "import os"
   ]
  },
  {
   "cell_type": "code",
   "execution_count": 8,
   "metadata": {},
   "outputs": [],
   "source": [
    "#RNN\n",
    "\n",
    "def dist(x, y):\n",
    "    return np.sqrt(sum((x-y)**2))\n",
    "\n",
    "def rnn(x , y, q_point, k=5):\n",
    "    \n",
    "    vals = []\n",
    "    m = x.shape[0]\n",
    "    for i in range(m):\n",
    "        d = dist(q_point, x[i])\n",
    "        vals.append((d, y[i]))\n",
    "        \n",
    "    vals = sorted(vals)\n",
    "    vals = vals[:k]\n",
    "    \n",
    "    vals = np.array(vals)\n",
    "    new_vals = np.unique(vals[:1], return_counts = True)\n",
    "    \n",
    "    index = new_vals[1].argmax() # argmax() returns the indices of the max value in an array  \n",
    "    pred = new_vals[0][index]\n",
    "    \n",
    "    return pred"
   ]
  },
  {
   "cell_type": "code",
   "execution_count": 9,
   "metadata": {},
   "outputs": [],
   "source": [
    "cap = cv2.VideoCapture(0)\n",
    "\n",
    "face_cascade = cv2.CascadeClassifier('haarcascade_frontalface_alt.xml')\n",
    "\n",
    "skip = 0\n",
    "dataset_path = 'C:/Users/samee/Desktop/Data Science/ML_Coding_Blocks/openCV_Face_Recognition/'\n",
    "\n",
    "face_data = []\n",
    "labels = []"
   ]
  },
  {
   "cell_type": "code",
   "execution_count": 10,
   "metadata": {},
   "outputs": [
    {
     "name": "stdout",
     "output_type": "stream",
     "text": [
      "(87, 30000)\n",
      "(87,)\n"
     ]
    }
   ],
   "source": [
    "class_id = 0 # labels for the given file\n",
    "names = {} # mapping btw id and name\n",
    "\n",
    "# data preparation\n",
    "\n",
    "for fx in os.listdir(dataset_path):\n",
    "    if fx.endswith('.npy'):\n",
    "        names[class_id] = fx[:-4]\n",
    "        data_item = np.loadtxt(dataset_path +fx) \n",
    "        face_data.append(data_item)\n",
    "        \n",
    "        # creating labels for a class \n",
    "        target = class_id*np.ones((data_item.shape[0],))\n",
    "        class_id += 1\n",
    "        labels.append(target)\n",
    "\n",
    "face_data = np.concatenate(face_data, axis=0)\n",
    "face_labels= np.concatenate(labels, axis=0)\n",
    "        \n",
    "print(face_data.shape)\n",
    "print(face_labels.shape)"
   ]
  },
  {
   "cell_type": "code",
   "execution_count": 11,
   "metadata": {},
   "outputs": [],
   "source": [
    "#trainset = np.concatenate((face_data, face_labels), axis = 1)"
   ]
  },
  {
   "cell_type": "code",
   "execution_count": 12,
   "metadata": {},
   "outputs": [],
   "source": [
    "while True:\n",
    "    ret, frame = cap.read()\n",
    "    if ret == False:\n",
    "        continue\n",
    "        \n",
    "    faces = face_cascade.detectMultiScale(frame, 1.3, 5)\n",
    "    \n",
    "    for face in faces:\n",
    "        x, y, w, h = face\n",
    "        \n",
    "        offset = 10\n",
    "        face_section = frame[y-offset:y+h+offset, x-offset:y+w+offset]\n",
    "        face_section = cv2.resize(face_section, (100,100))\n",
    "        \n",
    "        out = rnn(face_data, face_labels, face_section.flatten())\n",
    "        \n",
    "        pred_name = names[int(out)]\n",
    "        cv2.putText(frame, pred_name, (x,y-10), cv2.FONT_HERSHEY_SIMPLEX, 1, (255,0,0), 2, cv2.LINE_AA)\n",
    "        cv2.rectangle(frame, (x,y), (x+w, y+h), (0, 255, 255), 2)\n",
    "        \n",
    "    cv2.imshow('faces', frame)\n",
    "        \n",
    "    key_pressed = cv2.waitKey(1) & 0xFF\n",
    "    if key_pressed == ord('q'):\n",
    "        break\n",
    "\n",
    "cap.release()\n",
    "cv2.destroyAllWindows()    \n",
    "        "
   ]
  }
 ],
 "metadata": {
  "kernelspec": {
   "display_name": "Python 3",
   "language": "python",
   "name": "python3"
  },
  "language_info": {
   "codemirror_mode": {
    "name": "ipython",
    "version": 3
   },
   "file_extension": ".py",
   "mimetype": "text/x-python",
   "name": "python",
   "nbconvert_exporter": "python",
   "pygments_lexer": "ipython3",
   "version": "3.8.5"
  }
 },
 "nbformat": 4,
 "nbformat_minor": 4
}
